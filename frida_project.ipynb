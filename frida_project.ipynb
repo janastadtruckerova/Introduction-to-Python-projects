{
  "cells": [
    {
      "cell_type": "markdown",
      "metadata": {
        "id": "view-in-github",
        "colab_type": "text"
      },
      "source": [
        "<a href=\"https://colab.research.google.com/github/janastadtruckerova/Introduction-to-Python-projects/blob/main/frida_project.ipynb\" target=\"_parent\"><img src=\"https://colab.research.google.com/assets/colab-badge.svg\" alt=\"Open In Colab\"/></a>"
      ]
    },
    {
      "cell_type": "markdown",
      "metadata": {
        "id": "v9U3eVcx8g0m"
      },
      "source": [
        "# Frida Kahlo Exhibition\n",
        "\n",
        "You've been hired to work on a retrospective of Frida Kahlo's work at a major museum. Your job is to put together the audio tour, but in order to do that you need to create a list of each painting featured in the exhibit, the date it was painted, and its spot in the tour.\n",
        "\n",
        "Use your knowledge of Python lists to create a master list of each painting, its date, and its audio tour ID.\n"
      ]
    },
    {
      "cell_type": "markdown",
      "metadata": {
        "id": "Eo1bA4aR8g1I"
      },
      "source": [
        "## Task 1\n",
        "First, create a list called `paintings` and add the following titles to it:\n",
        "\n",
        "`The Two Fridas, My Dress Hangs Here, Tree of Hope, Self Portrait With Monkeys`\n"
      ]
    },
    {
      "cell_type": "code",
      "execution_count": 1,
      "metadata": {
        "collapsed": true,
        "id": "adH2mM2I8g1M"
      },
      "outputs": [],
      "source": [
        "paintings = [\"The Two Fridas\", \"My Dress Hangs Here\", \"Tree of Hope\", \"Self Prtrait With Monkeys\"]"
      ]
    },
    {
      "cell_type": "markdown",
      "metadata": {
        "id": "jDfaqFMT8g1Q"
      },
      "source": [
        "## Task 2\n",
        "\n",
        "Next, create a second list called `dates` and give it the following values:\n",
        "`1939, 1933, 1946, 1940`"
      ]
    },
    {
      "cell_type": "code",
      "execution_count": 2,
      "metadata": {
        "collapsed": true,
        "id": "-TZB7I3T8g1U"
      },
      "outputs": [],
      "source": [
        "dates = [1939, 1933, 1946, 1940]"
      ]
    },
    {
      "cell_type": "markdown",
      "metadata": {
        "id": "v77ZT5dm8g1b"
      },
      "source": [
        "## Task 3\n",
        "It doesn't do much good to have the paintings without their dates, and vice versa.\n",
        "Zip together the two lists so that each painting is paired with its date and resave it to the `paintings` variable. Make sure to convert the zipped object into a list using the `list()` function. Print the results to the terminal to check your work."
      ]
    },
    {
      "cell_type": "code",
      "execution_count": 3,
      "metadata": {
        "collapsed": true,
        "id": "m4FTkmJj8g1g",
        "colab": {
          "base_uri": "https://localhost:8080/"
        },
        "outputId": "2baaec89-1c62-48df-8ba5-9ed0f1128966"
      },
      "outputs": [
        {
          "output_type": "stream",
          "name": "stdout",
          "text": [
            "[('The Two Fridas', 1939), ('My Dress Hangs Here', 1933), ('Tree of Hope', 1946), ('Self Prtrait With Monkeys', 1940)]\n"
          ]
        }
      ],
      "source": [
        "paintings = list(zip(paintings, dates))\n",
        "print(paintings)"
      ]
    },
    {
      "cell_type": "markdown",
      "metadata": {
        "id": "YyTZEyJ78g1p"
      },
      "source": [
        "## Task 4\n",
        "There were some last minute additions to the show that we need to add to our list. Append the following paintings to our `paintings` list then re-print to check they were added correctly:\n",
        "- 'The Broken Column', 1944\n",
        "- 'The Wounded Deer', 1946\n",
        "- 'Me and My Doll', 1937\n",
        "\n",
        "Hint: Make sure to append each painting individually and that you're appending them as tuples, not lists."
      ]
    },
    {
      "cell_type": "code",
      "execution_count": 4,
      "metadata": {
        "collapsed": true,
        "id": "3VrDGrtm8g1u",
        "colab": {
          "base_uri": "https://localhost:8080/"
        },
        "outputId": "bf1dbfc1-8691-4ba8-e82e-c76e6a933efb"
      },
      "outputs": [
        {
          "output_type": "stream",
          "name": "stdout",
          "text": [
            "[('The Two Fridas', 1939), ('My Dress Hangs Here', 1933), ('Tree of Hope', 1946), ('Self Prtrait With Monkeys', 1940), 'The Broken Columm', 'The Wounded Deer', 'Me and My Doll', 1944, 1946, 1937]\n"
          ]
        }
      ],
      "source": [
        "paintings.append(\"The Broken Columm\")\n",
        "paintings.append(\"The Wounded Deer\")\n",
        "paintings.append(\"Me and My Doll\")\n",
        "paintings.append(1944)\n",
        "paintings.append(1946)\n",
        "paintings.append(1937)\n",
        "print(paintings)"
      ]
    },
    {
      "cell_type": "markdown",
      "metadata": {
        "id": "9znDMYrt8g1x"
      },
      "source": [
        "## Task 5\n",
        "Since each of these paintings is going to be in the audio tour, they each need a unique identification number.\n",
        "But before we assign them a number, we first need to check how many paintings there are in total.\n",
        "\n",
        "Find the length of the `paintings` list."
      ]
    },
    {
      "cell_type": "code",
      "execution_count": 5,
      "metadata": {
        "collapsed": true,
        "id": "2DbyvNnS8g13",
        "colab": {
          "base_uri": "https://localhost:8080/"
        },
        "outputId": "68c5cda4-132c-4d22-b0ee-3a59d3b32cfa"
      },
      "outputs": [
        {
          "output_type": "execute_result",
          "data": {
            "text/plain": [
              "10"
            ]
          },
          "metadata": {},
          "execution_count": 5
        }
      ],
      "source": [
        "len(paintings)"
      ]
    },
    {
      "cell_type": "markdown",
      "metadata": {
        "id": "mzdZqN-c8g15"
      },
      "source": [
        "## Task 6\n",
        "Use the `range` method to generate a list of identification numbers that starts at 1 and is equal in length to our list of items.\n",
        "Save the list to the variable `audio_tour_number` and check your work by printing the list."
      ]
    },
    {
      "cell_type": "code",
      "execution_count": 6,
      "metadata": {
        "collapsed": true,
        "id": "Ilc2wnmN8g18",
        "colab": {
          "base_uri": "https://localhost:8080/"
        },
        "outputId": "dacd2077-15de-48cb-d482-2725797686e4"
      },
      "outputs": [
        {
          "output_type": "stream",
          "name": "stdout",
          "text": [
            "[1, 2, 3, 4, 5, 6, 7]\n"
          ]
        }
      ],
      "source": [
        "audio_tour_number=list(range(1, 8))\n",
        "print(audio_tour_number)"
      ]
    },
    {
      "cell_type": "markdown",
      "metadata": {
        "id": "oXY5fxY08g1_"
      },
      "source": [
        "## Task 7\n",
        "\n",
        "We're finally read to create our master list.\n",
        "Zip the `audio_tour_number` list to the `paintings` list and save it as `master_list`.\n",
        "\n",
        "Hint: Make sure to convert the zipped object into a list using the `list()` function."
      ]
    },
    {
      "cell_type": "code",
      "execution_count": 7,
      "metadata": {
        "collapsed": true,
        "id": "D78evlQt8g2E"
      },
      "outputs": [],
      "source": [
        "master_list = list(zip(audio_tour_number, paintings))\n"
      ]
    },
    {
      "cell_type": "markdown",
      "metadata": {
        "id": "vHKGo3Sa8g2G"
      },
      "source": [
        "## Task 8\n",
        "Print the `master_list` to the terminal."
      ]
    },
    {
      "cell_type": "code",
      "execution_count": 8,
      "metadata": {
        "collapsed": true,
        "id": "qfTFKKJJ8g2I",
        "colab": {
          "base_uri": "https://localhost:8080/"
        },
        "outputId": "5d4af392-f536-4b53-f66e-f9a15d38124c"
      },
      "outputs": [
        {
          "output_type": "stream",
          "name": "stdout",
          "text": [
            "[(1, ('The Two Fridas', 1939)), (2, ('My Dress Hangs Here', 1933)), (3, ('Tree of Hope', 1946)), (4, ('Self Prtrait With Monkeys', 1940)), (5, 'The Broken Columm'), (6, 'The Wounded Deer'), (7, 'Me and My Doll')]\n"
          ]
        }
      ],
      "source": [
        "print(master_list)"
      ]
    }
  ],
  "metadata": {
    "kernelspec": {
      "display_name": "Python 3",
      "language": "python",
      "name": "python3"
    },
    "language_info": {
      "codemirror_mode": {
        "name": "ipython",
        "version": 3
      },
      "file_extension": ".py",
      "mimetype": "text/x-python",
      "name": "python",
      "nbconvert_exporter": "python",
      "pygments_lexer": "ipython3",
      "version": "3.6.2"
    },
    "colab": {
      "provenance": [],
      "include_colab_link": true
    }
  },
  "nbformat": 4,
  "nbformat_minor": 0
}