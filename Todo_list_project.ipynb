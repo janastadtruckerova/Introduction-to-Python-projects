{
  "nbformat": 4,
  "nbformat_minor": 0,
  "metadata": {
    "colab": {
      "provenance": [],
      "authorship_tag": "ABX9TyPm7xkBGYdvbdF4ybp44EhS",
      "include_colab_link": true
    },
    "kernelspec": {
      "name": "python3",
      "display_name": "Python 3"
    },
    "language_info": {
      "name": "python"
    }
  },
  "cells": [
    {
      "cell_type": "markdown",
      "metadata": {
        "id": "view-in-github",
        "colab_type": "text"
      },
      "source": [
        "<a href=\"https://colab.research.google.com/github/janastadtruckerova/Introduction-to-Python-projects/blob/main/Todo_list_project.ipynb\" target=\"_parent\"><img src=\"https://colab.research.google.com/assets/colab-badge.svg\" alt=\"Open In Colab\"/></a>"
      ]
    },
    {
      "cell_type": "code",
      "execution_count": null,
      "metadata": {
        "id": "WBBQ2fTqyOrA"
      },
      "outputs": [],
      "source": []
    },
    {
      "cell_type": "markdown",
      "source": [
        "**Projekt: \"Správa úloh (To-Do List)\"**\n",
        "\n",
        "\n",
        "**Cieľ projektu:**\n",
        "Vytvorenie  aplikácie na správu úloh, ktorá umožní používateľovi pridávať, zobrazovať, upravovať, odstraňovať a triediť úlohy v zozname. Tento projekt ti umožní pracovať s rôznymi metódami pre zoznamy, vrátane pridávania, vymazávania, vyhľadávania, filtrovania a triedenia."
      ],
      "metadata": {
        "id": "U8nXkqL8ytPs"
      }
    },
    {
      "cell_type": "markdown",
      "source": [
        "**Funkcie aplikácie:**\n",
        "1. Pridať úlohu:\n",
        "\n",
        "Používateľ zadá názov úlohy a pridá ju do zoznamu úloh.\n",
        "2. Zobraziť všetky úlohy:\n",
        "\n",
        "Program zobrazí všetky úlohy uložené v zozname úloh.\n",
        "3. Upraviť úlohu:\n",
        "\n",
        "Používateľ zadá číslo úlohy, ktorú chce upraviť, a následne môže zmeniť jej názov.\n",
        "4. Označiť úlohu za dokončenú:\n",
        "\n",
        "Používateľ môže označiť úlohu za dokončenú, čo sa môže vyjadriť napríklad pridaním textu „[Vyriešené]” pred názov úlohy.\n",
        "5. Odstrániť úlohu:\n",
        "\n",
        "Používateľ zadá číslo úlohy a túto úlohu odstráni zo zoznamu.\n",
        "6. Zoradiť úlohy:\n",
        "\n",
        "Používateľ môže zoradiť úlohy podľa abecedy alebo podľa toho, či sú vyriešené.\n"
      ],
      "metadata": {
        "id": "JkUoKsgWzMRq"
      }
    },
    {
      "cell_type": "markdown",
      "source": [],
      "metadata": {
        "id": "-9E_YJe5zHMy"
      }
    },
    {
      "cell_type": "markdown",
      "source": [],
      "metadata": {
        "id": "GkoiAfOLyUBJ"
      }
    },
    {
      "cell_type": "markdown",
      "source": [
        "Inicializácia zoznamu úloh"
      ],
      "metadata": {
        "id": "pvxvsK9m2pOK"
      }
    },
    {
      "cell_type": "code",
      "source": [
        "todo_list = []"
      ],
      "metadata": {
        "id": "Dn2gy4uc25eD"
      },
      "execution_count": 10,
      "outputs": []
    },
    {
      "cell_type": "markdown",
      "source": [
        "Funkcia na pridanie úlohy"
      ],
      "metadata": {
        "id": "JJu33ibk3BWC"
      }
    },
    {
      "cell_type": "code",
      "source": [
        "def pridat_ulohu():\n",
        "    uloha = input(\"Zadajte názov úlohy: \")\n",
        "    todo_list.append(uloha)\n",
        "    print(\"Úloha bola pridaná.\")"
      ],
      "metadata": {
        "id": "pWnbA3h43JnQ"
      },
      "execution_count": 2,
      "outputs": []
    },
    {
      "cell_type": "markdown",
      "source": [
        "Funkcia na zobrazenie všetkých úloh"
      ],
      "metadata": {
        "id": "g8LuZXjX3dj7"
      }
    },
    {
      "cell_type": "code",
      "source": [
        "def zobrazit_ulohy():\n",
        "    if not todo_list:\n",
        "        print(\"Zoznam úloh je prázdny.\")\n",
        "    else:\n",
        "        for index, uloha in enumerate(todo_list, start=1):\n",
        "            print(f\"{index}. {uloha}\")"
      ],
      "metadata": {
        "id": "hlBdxKYJ3oAa"
      },
      "execution_count": 3,
      "outputs": []
    },
    {
      "cell_type": "markdown",
      "source": [
        "Funkcia na úpravu úlohy"
      ],
      "metadata": {
        "id": "ZC17GPIT34zY"
      }
    },
    {
      "cell_type": "code",
      "source": [
        "def upravit_ulohu():\n",
        "    zobrazit_ulohy()\n",
        "    cislo = int(input(\"Zadajte číslo úlohy, ktorú chcete upraviť: \")) - 1\n",
        "    if 0 <= cislo < len(todo_list):\n",
        "        nova_uloha = input(\"Zadajte nový názov úlohy: \")\n",
        "        todo_list[cislo] = nova_uloha\n",
        "        print(\"Úloha bola upravená.\")\n",
        "    else:\n",
        "        print(\"Neplatné číslo úlohy.\")"
      ],
      "metadata": {
        "id": "SuYP506u3_Ef"
      },
      "execution_count": 4,
      "outputs": []
    },
    {
      "cell_type": "markdown",
      "source": [
        "Funkcia na označenie úlohy za dokončenú"
      ],
      "metadata": {
        "id": "Hrhs5OvO4TEw"
      }
    },
    {
      "cell_type": "code",
      "source": [
        "def oznacit_za_dokoncenu():\n",
        "    zobrazit_ulohy()\n",
        "    cislo = int(input(\"Zadajte číslo úlohy, ktorú chcete označiť ako dokončenú: \")) - 1\n",
        "    if 0 <= cislo < len(todo_list):\n",
        "        todo_list[cislo] = \"[Vyriešené] \" + todo_list[cislo]\n",
        "        print(\"Úloha bola označená ako dokončená.\")\n",
        "    else:\n",
        "        print(\"Neplatné číslo úlohy.\")"
      ],
      "metadata": {
        "id": "dcgmBviD4btX"
      },
      "execution_count": 5,
      "outputs": []
    },
    {
      "cell_type": "markdown",
      "source": [
        "Funkcia na odstránenie úlohy"
      ],
      "metadata": {
        "id": "7w2AIlIL4r0A"
      }
    },
    {
      "cell_type": "code",
      "source": [
        "def odstranit_ulohu():\n",
        "    zobrazit_ulohy()\n",
        "    cislo = int(input(\"Zadajte číslo úlohy, ktorú chcete odstrániť: \")) - 1\n",
        "    if 0 <= cislo < len(todo_list):\n",
        "        odstranena_uloha = todo_list.pop(cislo)\n",
        "        print(f\"Úloha '{odstranena_uloha}' bola odstránená.\")\n",
        "    else:\n",
        "        print(\"Neplatné číslo úlohy.\")"
      ],
      "metadata": {
        "id": "si-qLkg94y-h"
      },
      "execution_count": 6,
      "outputs": []
    },
    {
      "cell_type": "markdown",
      "source": [
        "Funkcia na triedenie úloh"
      ],
      "metadata": {
        "id": "UOp760ye5HPh"
      }
    },
    {
      "cell_type": "code",
      "source": [
        "def zoradit_ulohy():\n",
        "    todo_list.sort()\n",
        "    print(\"Úlohy boli zoradené podľa abecedy.\")"
      ],
      "metadata": {
        "id": "f4hqExa75SI_"
      },
      "execution_count": 7,
      "outputs": []
    },
    {
      "cell_type": "markdown",
      "source": [
        "Hlavné menu aplikácie"
      ],
      "metadata": {
        "id": "LKHFhVQV5aQ_"
      }
    },
    {
      "cell_type": "code",
      "source": [
        "def hlavne_menu():\n",
        "    while True:\n",
        "        print(\"\\n--- Správa Úloh ---\")\n",
        "        print(\"1. Pridať úlohu\")\n",
        "        print(\"2. Zobraziť všetky úlohy\")\n",
        "        print(\"3. Upraviť úlohu\")\n",
        "        print(\"4. Označiť úlohu za dokončenú\")\n",
        "        print(\"5. Odstrániť úlohu\")\n",
        "        print(\"6. Zoradiť úlohy\")\n",
        "        print(\"0. Ukončiť\")\n",
        "        volba = input(\"Vyberte možnosť: \")\n",
        "\n",
        "        if volba == '1':\n",
        "            pridat_ulohu()\n",
        "        elif volba == '2':\n",
        "            zobrazit_ulohy()\n",
        "        elif volba == '3':\n",
        "            upravit_ulohu()\n",
        "        elif volba == '4':\n",
        "            oznacit_za_dokoncenu()\n",
        "        elif volba == '5':\n",
        "            odstranit_ulohu()\n",
        "        elif volba == '6':\n",
        "            zoradit_ulohy()\n",
        "        elif volba == '0':\n",
        "            print(\"Ukončujem program.\")\n",
        "            break\n",
        "        else:\n",
        "            print(\"Neplatná voľba. Skúste znova.\")\n"
      ],
      "metadata": {
        "id": "ABQXSEQB5o7w"
      },
      "execution_count": 8,
      "outputs": []
    },
    {
      "cell_type": "markdown",
      "source": [
        "Spustenie aplikácie"
      ],
      "metadata": {
        "id": "EsPAw_fj5wSn"
      }
    },
    {
      "cell_type": "code",
      "source": [
        "hlavne_menu()"
      ],
      "metadata": {
        "colab": {
          "base_uri": "https://localhost:8080/"
        },
        "id": "PL8dSNPE51qv",
        "outputId": "45421a16-d146-4664-de4d-9e61d1984060"
      },
      "execution_count": null,
      "outputs": [
        {
          "output_type": "stream",
          "name": "stdout",
          "text": [
            "\n",
            "--- Správa Úloh ---\n",
            "1. Pridať úlohu\n",
            "2. Zobraziť všetky úlohy\n",
            "3. Upraviť úlohu\n",
            "4. Označiť úlohu za dokončenú\n",
            "5. Odstrániť úlohu\n",
            "6. Zoradiť úlohy\n",
            "0. Ukončiť\n"
          ]
        }
      ]
    }
  ]
}